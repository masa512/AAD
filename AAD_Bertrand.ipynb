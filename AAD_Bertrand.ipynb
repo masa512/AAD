{
 "cells": [
  {
   "cell_type": "markdown",
   "id": "81d8bd25-5eaf-4536-b29f-ad77d2553ead",
   "metadata": {},
   "source": [
    "## Step 1 : Dataset Analysis"
   ]
  },
  {
   "cell_type": "code",
   "execution_count": 33,
   "id": "9d6cdb30-0399-4c63-ace3-d49e05dd2b37",
   "metadata": {},
   "outputs": [],
   "source": [
    "import numpy as np\n",
    "import matplotlib.pyplot as plt\n",
    "%reload_ext autoreload\n",
    "%autoreload 2\n",
    "from kalman import *"
   ]
  },
  {
   "cell_type": "markdown",
   "id": "6deaf22d-97d3-417a-9a81-cdb65d398952",
   "metadata": {},
   "source": [
    "### Part A : Pre-Window"
   ]
  },
  {
   "cell_type": "code",
   "execution_count": 34,
   "id": "7a18976c-70ae-4aff-879e-e6cce6b42b06",
   "metadata": {},
   "outputs": [
    {
     "name": "stdout",
     "output_type": "stream",
     "text": [
      "EEG: (12448, 64)\n",
      "Audio: (12448, 1)\n",
      "label: 2\n"
     ]
    }
   ],
   "source": [
    "# Step 1 : Load EEG Data to Check Dimensionality\n",
    "path = 'S1.mat'\n",
    "data_k = AAD_data(path,0)\n",
    "print('EEG:',data_k['eeg'].shape)\n",
    "print('Audio:',data_k['env'][0].shape)\n",
    "print('label:',data_k['lab'])"
   ]
  },
  {
   "cell_type": "markdown",
   "id": "d906ef40-290a-49f5-b2e0-97bdc52443a1",
   "metadata": {},
   "source": [
    "### Part B: Windowing"
   ]
  },
  {
   "cell_type": "code",
   "execution_count": 35,
   "id": "c3326097-8130-4b84-8970-1c8faa0bd6b9",
   "metadata": {},
   "outputs": [
    {
     "name": "stdout",
     "output_type": "stream",
     "text": [
      "EEGw: (960, 1024)\n",
      "Audiow: (960, 1)\n"
     ]
    }
   ],
   "source": [
    "# Take x and Y and generate Windowed Data\n",
    "X = data_k['eeg']\n",
    "Y = data_k['env']\n",
    "Xw,Yw = window_XY(X,Y,fs=32, Td=0.500,Tmax=30)\n",
    "\n",
    "print('EEGw:',Xw.shape)\n",
    "print('Audiow:',Yw[0].shape)"
   ]
  },
  {
   "cell_type": "markdown",
   "id": "25ea180b-5da2-4cb5-86d4-3eb45e2d3d64",
   "metadata": {},
   "source": [
    "## Step 2 : AAD"
   ]
  },
  {
   "cell_type": "markdown",
   "id": "98303980-1fcf-472e-8f3f-df9aff761e35",
   "metadata": {},
   "source": [
    "### Initialization"
   ]
  },
  {
   "cell_type": "code",
   "execution_count": 36,
   "id": "eeb2b597-00fc-4a9d-90fe-3de855844183",
   "metadata": {},
   "outputs": [],
   "source": [
    "Cxx,Cxy,w0 = init_params_AAD(['S1.mat'],cxy_mode = \"rand\",cxy0 = None,lambd = 0.5)"
   ]
  },
  {
   "cell_type": "markdown",
   "id": "c95d79d7-b013-42fc-ac41-a9658bb597ce",
   "metadata": {},
   "source": [
    "### Try single run"
   ]
  },
  {
   "cell_type": "code",
   "execution_count": 37,
   "id": "f6360c71-d214-4485-a087-1927dc74bd95",
   "metadata": {},
   "outputs": [],
   "source": [
    "paths = ['S1.mat']\n",
    "w,Cxy = AAD_forward(paths,Cxx,Cxy0=Cxy,Ntrial=20)"
   ]
  },
  {
   "cell_type": "markdown",
   "id": "e9c2652f-4b93-4391-801c-43825f6fa4ed",
   "metadata": {},
   "source": [
    "### Run for multiple iteration"
   ]
  },
  {
   "cell_type": "code",
   "execution_count": 44,
   "id": "be175689-84d7-417e-a386-120db5d6b436",
   "metadata": {},
   "outputs": [
    {
     "name": "stdout",
     "output_type": "stream",
     "text": [
      "Iteration0: Accuracy =  0.55\n",
      "Iteration1: Accuracy =  0.55\n",
      "Iteration2: Accuracy =  0.55\n",
      "Iteration3: Accuracy =  0.55\n",
      "Iteration4: Accuracy =  0.55\n",
      "Iteration5: Accuracy =  0.55\n"
     ]
    },
    {
     "ename": "KeyboardInterrupt",
     "evalue": "",
     "output_type": "error",
     "traceback": [
      "\u001b[0;31m---------------------------------------------------------------------------\u001b[0m",
      "\u001b[0;31mKeyboardInterrupt\u001b[0m                         Traceback (most recent call last)",
      "Cell \u001b[0;32mIn[44], line 7\u001b[0m\n\u001b[1;32m      5\u001b[0m \u001b[38;5;66;03m# Iterate\u001b[39;00m\n\u001b[1;32m      6\u001b[0m \u001b[38;5;28;01mfor\u001b[39;00m i \u001b[38;5;129;01min\u001b[39;00m \u001b[38;5;28mrange\u001b[39m(Nepochs):\n\u001b[0;32m----> 7\u001b[0m     w,Cxy \u001b[38;5;241m=\u001b[39m \u001b[43mAAD_forward\u001b[49m\u001b[43m(\u001b[49m\u001b[43mpaths\u001b[49m\u001b[43m,\u001b[49m\u001b[43mCxx\u001b[49m\u001b[43m,\u001b[49m\u001b[43mCxy0\u001b[49m\u001b[38;5;241;43m=\u001b[39;49m\u001b[43mCxy\u001b[49m\u001b[43m,\u001b[49m\u001b[43mNtrial\u001b[49m\u001b[38;5;241;43m=\u001b[39;49m\u001b[38;5;241;43m20\u001b[39;49m\u001b[43m)\u001b[49m\n\u001b[1;32m      8\u001b[0m     \u001b[38;5;28mprint\u001b[39m(\u001b[38;5;124mf\u001b[39m\u001b[38;5;124m'\u001b[39m\u001b[38;5;124mIteration\u001b[39m\u001b[38;5;132;01m{\u001b[39;00mi\u001b[38;5;132;01m}\u001b[39;00m\u001b[38;5;124m:\u001b[39m\u001b[38;5;124m'\u001b[39m,\u001b[38;5;124m'\u001b[39m\u001b[38;5;124mAccuracy = \u001b[39m\u001b[38;5;124m'\u001b[39m,AAD_test(paths,w,Ntrial\u001b[38;5;241m=\u001b[39m\u001b[38;5;241m20\u001b[39m))\n",
      "File \u001b[0;32m~/Desktop/Work/KF/kalman.py:202\u001b[0m, in \u001b[0;36mAAD_forward\u001b[0;34m(paths, Cxx, Cxy0, Ntrial)\u001b[0m\n\u001b[1;32m    199\u001b[0m Cxy \u001b[38;5;241m=\u001b[39m np\u001b[38;5;241m.\u001b[39mzeros_like(Cxy)\n\u001b[1;32m    200\u001b[0m \u001b[38;5;28;01mfor\u001b[39;00m k \u001b[38;5;129;01min\u001b[39;00m \u001b[38;5;28mrange\u001b[39m(Ntrial):\n\u001b[1;32m    201\u001b[0m     \u001b[38;5;66;03m# Get current data\u001b[39;00m\n\u001b[0;32m--> 202\u001b[0m     cur_data \u001b[38;5;241m=\u001b[39m \u001b[43mAAD_data\u001b[49m\u001b[43m(\u001b[49m\u001b[43mpath\u001b[49m\u001b[43m,\u001b[49m\u001b[43mk\u001b[49m\u001b[43m)\u001b[49m\n\u001b[1;32m    203\u001b[0m     Xw,Yw \u001b[38;5;241m=\u001b[39m window_XY(cur_data[\u001b[38;5;124m'\u001b[39m\u001b[38;5;124meeg\u001b[39m\u001b[38;5;124m'\u001b[39m],cur_data[\u001b[38;5;124m'\u001b[39m\u001b[38;5;124menv\u001b[39m\u001b[38;5;124m'\u001b[39m])\n\u001b[1;32m    204\u001b[0m     \u001b[38;5;66;03m# Get prior prediction\u001b[39;00m\n",
      "File \u001b[0;32m~/Desktop/Work/KF/kalman.py:86\u001b[0m, in \u001b[0;36mAAD_data\u001b[0;34m(path, k)\u001b[0m\n\u001b[1;32m     74\u001b[0m \u001b[38;5;28;01mdef\u001b[39;00m \u001b[38;5;21mAAD_data\u001b[39m(path,k):\n\u001b[1;32m     75\u001b[0m \u001b[38;5;250m    \u001b[39m\u001b[38;5;124;03m\"\"\"\u001b[39;00m\n\u001b[1;32m     76\u001b[0m \u001b[38;5;124;03m    Loads up Bertrand .mat file for particular application\u001b[39;00m\n\u001b[1;32m     77\u001b[0m \n\u001b[0;32m   (...)\u001b[0m\n\u001b[1;32m     84\u001b[0m \u001b[38;5;124;03m    label : 1 or 2 for left or right\u001b[39;00m\n\u001b[1;32m     85\u001b[0m \u001b[38;5;124;03m    \"\"\"\u001b[39;00m\n\u001b[0;32m---> 86\u001b[0m     trial \u001b[38;5;241m=\u001b[39m \u001b[43mloadmat\u001b[49m\u001b[43m(\u001b[49m\u001b[43mpath\u001b[49m\u001b[43m)\u001b[49m[\u001b[38;5;124m'\u001b[39m\u001b[38;5;124mpreproc_trials\u001b[39m\u001b[38;5;124m'\u001b[39m][k]\n\u001b[1;32m     87\u001b[0m     Xk \u001b[38;5;241m=\u001b[39m trial\u001b[38;5;241m.\u001b[39mRawData\u001b[38;5;241m.\u001b[39mEegData\n\u001b[1;32m     88\u001b[0m     wk \u001b[38;5;241m=\u001b[39m trial\u001b[38;5;241m.\u001b[39mEnvelope\u001b[38;5;241m.\u001b[39msubband_weights\n",
      "File \u001b[0;32m~/Desktop/Work/KF/kalman.py:13\u001b[0m, in \u001b[0;36mloadmat\u001b[0;34m(filename)\u001b[0m\n\u001b[1;32m      6\u001b[0m \u001b[38;5;28;01mdef\u001b[39;00m \u001b[38;5;21mloadmat\u001b[39m(filename):\n\u001b[1;32m      7\u001b[0m \u001b[38;5;250m    \u001b[39m\u001b[38;5;124;03m'''\u001b[39;00m\n\u001b[1;32m      8\u001b[0m \u001b[38;5;124;03m    this function should be called instead of direct spio.loadmat\u001b[39;00m\n\u001b[1;32m      9\u001b[0m \u001b[38;5;124;03m    as it cures the problem of not properly recovering python dictionaries\u001b[39;00m\n\u001b[1;32m     10\u001b[0m \u001b[38;5;124;03m    from mat files. It calls the function check keys to cure all entries\u001b[39;00m\n\u001b[1;32m     11\u001b[0m \u001b[38;5;124;03m    which are still mat-objects\u001b[39;00m\n\u001b[1;32m     12\u001b[0m \u001b[38;5;124;03m    '''\u001b[39;00m\n\u001b[0;32m---> 13\u001b[0m     data \u001b[38;5;241m=\u001b[39m \u001b[43mspio\u001b[49m\u001b[38;5;241;43m.\u001b[39;49m\u001b[43mloadmat\u001b[49m\u001b[43m(\u001b[49m\u001b[43mfilename\u001b[49m\u001b[43m,\u001b[49m\u001b[43m \u001b[49m\u001b[43mstruct_as_record\u001b[49m\u001b[38;5;241;43m=\u001b[39;49m\u001b[38;5;28;43;01mFalse\u001b[39;49;00m\u001b[43m,\u001b[49m\u001b[43m \u001b[49m\u001b[43msqueeze_me\u001b[49m\u001b[38;5;241;43m=\u001b[39;49m\u001b[38;5;28;43;01mTrue\u001b[39;49;00m\u001b[43m)\u001b[49m\n\u001b[1;32m     14\u001b[0m     \u001b[38;5;28;01mreturn\u001b[39;00m _check_keys(data)\n",
      "File \u001b[0;32m~/.local/lib/python3.8/site-packages/scipy/io/matlab/_mio.py:227\u001b[0m, in \u001b[0;36mloadmat\u001b[0;34m(file_name, mdict, appendmat, **kwargs)\u001b[0m\n\u001b[1;32m    225\u001b[0m \u001b[38;5;28;01mwith\u001b[39;00m _open_file_context(file_name, appendmat) \u001b[38;5;28;01mas\u001b[39;00m f:\n\u001b[1;32m    226\u001b[0m     MR, _ \u001b[38;5;241m=\u001b[39m mat_reader_factory(f, \u001b[38;5;241m*\u001b[39m\u001b[38;5;241m*\u001b[39mkwargs)\n\u001b[0;32m--> 227\u001b[0m     matfile_dict \u001b[38;5;241m=\u001b[39m \u001b[43mMR\u001b[49m\u001b[38;5;241;43m.\u001b[39;49m\u001b[43mget_variables\u001b[49m\u001b[43m(\u001b[49m\u001b[43mvariable_names\u001b[49m\u001b[43m)\u001b[49m\n\u001b[1;32m    229\u001b[0m \u001b[38;5;28;01mif\u001b[39;00m mdict \u001b[38;5;129;01mis\u001b[39;00m \u001b[38;5;129;01mnot\u001b[39;00m \u001b[38;5;28;01mNone\u001b[39;00m:\n\u001b[1;32m    230\u001b[0m     mdict\u001b[38;5;241m.\u001b[39mupdate(matfile_dict)\n",
      "File \u001b[0;32m~/.local/lib/python3.8/site-packages/scipy/io/matlab/_mio5.py:332\u001b[0m, in \u001b[0;36mMatFile5Reader.get_variables\u001b[0;34m(self, variable_names)\u001b[0m\n\u001b[1;32m    330\u001b[0m     \u001b[38;5;28;01mcontinue\u001b[39;00m\n\u001b[1;32m    331\u001b[0m \u001b[38;5;28;01mtry\u001b[39;00m:\n\u001b[0;32m--> 332\u001b[0m     res \u001b[38;5;241m=\u001b[39m \u001b[38;5;28;43mself\u001b[39;49m\u001b[38;5;241;43m.\u001b[39;49m\u001b[43mread_var_array\u001b[49m\u001b[43m(\u001b[49m\u001b[43mhdr\u001b[49m\u001b[43m,\u001b[49m\u001b[43m \u001b[49m\u001b[43mprocess\u001b[49m\u001b[43m)\u001b[49m\n\u001b[1;32m    333\u001b[0m \u001b[38;5;28;01mexcept\u001b[39;00m MatReadError \u001b[38;5;28;01mas\u001b[39;00m err:\n\u001b[1;32m    334\u001b[0m     warnings\u001b[38;5;241m.\u001b[39mwarn(\n\u001b[1;32m    335\u001b[0m         \u001b[38;5;124m'\u001b[39m\u001b[38;5;124mUnreadable variable \u001b[39m\u001b[38;5;124m\"\u001b[39m\u001b[38;5;132;01m%s\u001b[39;00m\u001b[38;5;124m\"\u001b[39m\u001b[38;5;124m, because \u001b[39m\u001b[38;5;124m\"\u001b[39m\u001b[38;5;132;01m%s\u001b[39;00m\u001b[38;5;124m\"\u001b[39m\u001b[38;5;124m'\u001b[39m \u001b[38;5;241m%\u001b[39m\n\u001b[1;32m    336\u001b[0m         (name, err),\n\u001b[1;32m    337\u001b[0m         \u001b[38;5;167;01mWarning\u001b[39;00m, stacklevel\u001b[38;5;241m=\u001b[39m\u001b[38;5;241m2\u001b[39m)\n",
      "File \u001b[0;32m~/.local/lib/python3.8/site-packages/scipy/io/matlab/_mio5.py:292\u001b[0m, in \u001b[0;36mMatFile5Reader.read_var_array\u001b[0;34m(self, header, process)\u001b[0m\n\u001b[1;32m    275\u001b[0m \u001b[38;5;28;01mdef\u001b[39;00m \u001b[38;5;21mread_var_array\u001b[39m(\u001b[38;5;28mself\u001b[39m, header, process\u001b[38;5;241m=\u001b[39m\u001b[38;5;28;01mTrue\u001b[39;00m):\n\u001b[1;32m    276\u001b[0m \u001b[38;5;250m    \u001b[39m\u001b[38;5;124;03m''' Read array, given `header`\u001b[39;00m\n\u001b[1;32m    277\u001b[0m \n\u001b[1;32m    278\u001b[0m \u001b[38;5;124;03m    Parameters\u001b[39;00m\n\u001b[0;32m   (...)\u001b[0m\n\u001b[1;32m    290\u001b[0m \u001b[38;5;124;03m       `process`.\u001b[39;00m\n\u001b[1;32m    291\u001b[0m \u001b[38;5;124;03m    '''\u001b[39;00m\n\u001b[0;32m--> 292\u001b[0m     \u001b[38;5;28;01mreturn\u001b[39;00m \u001b[38;5;28;43mself\u001b[39;49m\u001b[38;5;241;43m.\u001b[39;49m\u001b[43m_matrix_reader\u001b[49m\u001b[38;5;241;43m.\u001b[39;49m\u001b[43marray_from_header\u001b[49m\u001b[43m(\u001b[49m\u001b[43mheader\u001b[49m\u001b[43m,\u001b[49m\u001b[43m \u001b[49m\u001b[43mprocess\u001b[49m\u001b[43m)\u001b[49m\n",
      "File \u001b[0;32m_mio5_utils.pyx:666\u001b[0m, in \u001b[0;36mscipy.io.matlab._mio5_utils.VarReader5.array_from_header\u001b[0;34m()\u001b[0m\n",
      "File \u001b[0;32m_mio5_utils.pyx:711\u001b[0m, in \u001b[0;36mscipy.io.matlab._mio5_utils.VarReader5.array_from_header\u001b[0;34m()\u001b[0m\n",
      "File \u001b[0;32m_mio5_utils.pyx:884\u001b[0m, in \u001b[0;36mscipy.io.matlab._mio5_utils.VarReader5.read_cells\u001b[0;34m()\u001b[0m\n",
      "File \u001b[0;32m_mio5_utils.pyx:664\u001b[0m, in \u001b[0;36mscipy.io.matlab._mio5_utils.VarReader5.read_mi_matrix\u001b[0;34m()\u001b[0m\n",
      "File \u001b[0;32m_mio5_utils.pyx:713\u001b[0m, in \u001b[0;36mscipy.io.matlab._mio5_utils.VarReader5.array_from_header\u001b[0;34m()\u001b[0m\n",
      "File \u001b[0;32m_mio5_utils.pyx:964\u001b[0m, in \u001b[0;36mscipy.io.matlab._mio5_utils.VarReader5.read_struct\u001b[0;34m()\u001b[0m\n",
      "File \u001b[0;32m_mio5_utils.pyx:664\u001b[0m, in \u001b[0;36mscipy.io.matlab._mio5_utils.VarReader5.read_mi_matrix\u001b[0;34m()\u001b[0m\n",
      "File \u001b[0;32m_mio5_utils.pyx:713\u001b[0m, in \u001b[0;36mscipy.io.matlab._mio5_utils.VarReader5.array_from_header\u001b[0;34m()\u001b[0m\n",
      "File \u001b[0;32m_mio5_utils.pyx:964\u001b[0m, in \u001b[0;36mscipy.io.matlab._mio5_utils.VarReader5.read_struct\u001b[0;34m()\u001b[0m\n",
      "File \u001b[0;32m_mio5_utils.pyx:664\u001b[0m, in \u001b[0;36mscipy.io.matlab._mio5_utils.VarReader5.read_mi_matrix\u001b[0;34m()\u001b[0m\n",
      "File \u001b[0;32m_mio5_utils.pyx:735\u001b[0m, in \u001b[0;36mscipy.io.matlab._mio5_utils.VarReader5.array_from_header\u001b[0;34m()\u001b[0m\n",
      "File \u001b[0;32m_mio_utils.pyx:11\u001b[0m, in \u001b[0;36mscipy.io.matlab._mio_utils.squeeze_element\u001b[0;34m()\u001b[0m\n",
      "File \u001b[0;32m_mio_utils.pyx:18\u001b[0m, in \u001b[0;36mscipy.io.matlab._mio_utils.squeeze_element\u001b[0;34m()\u001b[0m\n",
      "File \u001b[0;32m<__array_function__ internals>:179\u001b[0m, in \u001b[0;36msqueeze\u001b[0;34m(*args, **kwargs)\u001b[0m\n",
      "\u001b[0;31mKeyboardInterrupt\u001b[0m: "
     ]
    }
   ],
   "source": [
    "Nepochs = 10\n",
    "# Initialize\n",
    "Cxx,Cxy,w0 = init_params_AAD(['S1.mat'],cxy_mode = \"rand\",cxy0 = None,lambd = 0.5)\n",
    "\n",
    "# Iterate\n",
    "for i in range(Nepochs):\n",
    "    w,Cxy = AAD_forward(paths,Cxx,Cxy0=Cxy,Ntrial=20)\n",
    "    print(f'Iteration{i+1}:','Accuracy = ',AAD_test(paths,w,Ntrial=20))\n",
    "    "
   ]
  },
  {
   "cell_type": "code",
   "execution_count": null,
   "id": "6d0669ae-6b1e-4bc5-b59f-296d98474fe1",
   "metadata": {},
   "outputs": [],
   "source": []
  }
 ],
 "metadata": {
  "kernelspec": {
   "display_name": "Python 3 (ipykernel)",
   "language": "python",
   "name": "python3"
  },
  "language_info": {
   "codemirror_mode": {
    "name": "ipython",
    "version": 3
   },
   "file_extension": ".py",
   "mimetype": "text/x-python",
   "name": "python",
   "nbconvert_exporter": "python",
   "pygments_lexer": "ipython3",
   "version": "3.8.10"
  }
 },
 "nbformat": 4,
 "nbformat_minor": 5
}
