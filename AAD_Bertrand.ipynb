{
 "cells": [
  {
   "cell_type": "markdown",
   "id": "81d8bd25-5eaf-4536-b29f-ad77d2553ead",
   "metadata": {},
   "source": [
    "## Step 1 : Dataset Analysis"
   ]
  },
  {
   "cell_type": "code",
   "execution_count": 1,
   "id": "9d6cdb30-0399-4c63-ace3-d49e05dd2b37",
   "metadata": {},
   "outputs": [],
   "source": [
    "import numpy as np\n",
    "import matplotlib.pyplot as plt\n",
    "%reload_ext autoreload\n",
    "%autoreload 2\n",
    "from kalman import *"
   ]
  },
  {
   "cell_type": "markdown",
   "id": "6deaf22d-97d3-417a-9a81-cdb65d398952",
   "metadata": {},
   "source": [
    "### Part A : Pre-Window"
   ]
  },
  {
   "cell_type": "code",
   "execution_count": 2,
   "id": "7a18976c-70ae-4aff-879e-e6cce6b42b06",
   "metadata": {},
   "outputs": [
    {
     "name": "stdout",
     "output_type": "stream",
     "text": [
      "EEG: (12448, 64)\n",
      "Audio: (12448, 1)\n",
      "label: 2\n"
     ]
    }
   ],
   "source": [
    "# Step 1 : Load EEG Data to Check Dimensionality\n",
    "path = 'S1.mat'\n",
    "data_k = AAD_data(path,0)\n",
    "print('EEG:',data_k['eeg'].shape)\n",
    "print('Audio:',data_k['env'][0].shape)\n",
    "print('label:',data_k['lab'])"
   ]
  },
  {
   "cell_type": "markdown",
   "id": "d906ef40-290a-49f5-b2e0-97bdc52443a1",
   "metadata": {},
   "source": [
    "### Part B: Windowing"
   ]
  },
  {
   "cell_type": "code",
   "execution_count": 3,
   "id": "c3326097-8130-4b84-8970-1c8faa0bd6b9",
   "metadata": {},
   "outputs": [
    {
     "name": "stdout",
     "output_type": "stream",
     "text": [
      "EEGw: (960, 1024)\n",
      "Audiow: (960, 1)\n"
     ]
    }
   ],
   "source": [
    "# Take x and Y and generate Windowed Data\n",
    "X = data_k['eeg']\n",
    "Y = data_k['env']\n",
    "Xw,Yw = window_XY(X,Y,fs=32, Td=0.500,Tmax=30)\n",
    "\n",
    "print('EEGw:',Xw.shape)\n",
    "print('Audiow:',Yw[0].shape)"
   ]
  },
  {
   "cell_type": "markdown",
   "id": "25ea180b-5da2-4cb5-86d4-3eb45e2d3d64",
   "metadata": {},
   "source": [
    "## Step 2 : AAD"
   ]
  },
  {
   "cell_type": "markdown",
   "id": "98303980-1fcf-472e-8f3f-df9aff761e35",
   "metadata": {},
   "source": [
    "### Initialization"
   ]
  },
  {
   "cell_type": "code",
   "execution_count": 12,
   "id": "eeb2b597-00fc-4a9d-90fe-3de855844183",
   "metadata": {},
   "outputs": [],
   "source": [
    "Cxx,Cxy,w0 = init_params_AAD(['S1.mat'],cxy_mode = \"rand\",cxy0 = None,lambd = 0.5)"
   ]
  }
 ],
 "metadata": {
  "kernelspec": {
   "display_name": "Python 3 (ipykernel)",
   "language": "python",
   "name": "python3"
  },
  "language_info": {
   "codemirror_mode": {
    "name": "ipython",
    "version": 3
   },
   "file_extension": ".py",
   "mimetype": "text/x-python",
   "name": "python",
   "nbconvert_exporter": "python",
   "pygments_lexer": "ipython3",
   "version": "3.9.13"
  }
 },
 "nbformat": 4,
 "nbformat_minor": 5
}
